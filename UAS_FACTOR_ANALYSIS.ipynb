{
  "nbformat": 4,
  "nbformat_minor": 0,
  "metadata": {
    "colab": {
      "name": "UAS_FACTOR_ANALYSIS.ipynb",
      "provenance": [],
      "authorship_tag": "ABX9TyNQoEievhIZHetBCnOPHEH5",
      "include_colab_link": true
    },
    "kernelspec": {
      "name": "python3",
      "display_name": "Python 3"
    },
    "language_info": {
      "name": "python"
    }
  },
  "cells": [
    {
      "cell_type": "markdown",
      "metadata": {
        "id": "view-in-github",
        "colab_type": "text"
      },
      "source": [
        "<a href=\"https://colab.research.google.com/github/prasq/Django_proj/blob/master/UAS_FACTOR_ANALYSIS.ipynb\" target=\"_parent\"><img src=\"https://colab.research.google.com/assets/colab-badge.svg\" alt=\"Open In Colab\"/></a>"
      ]
    },
    {
      "cell_type": "markdown",
      "metadata": {
        "id": "E2Fx_k-SK75X"
      },
      "source": [
        "Each factor explains a particular amount of variance in the observed variables. It helps in data interpretations by reducing the number of variables.bold text"
      ]
    },
    {
      "cell_type": "markdown",
      "metadata": {
        "id": "F6We9e7yLlP8"
      },
      "source": [
        "![Screenshot_2.png](data:image/png;base64,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)"
      ]
    },
    {
      "cell_type": "code",
      "metadata": {
        "id": "AAsV_VuDQ7FP"
      },
      "source": [
        "#!pip install factor_analyzer\n",
        "\n",
        "#pip install factor_analyzer==0.2.3"
      ],
      "execution_count": null,
      "outputs": []
    },
    {
      "cell_type": "code",
      "metadata": {
        "id": "akKW6VzpLrkB"
      },
      "source": [
        "import pandas as pd\n",
        "from sklearn.datasets import load_iris\n",
        "from factor_analyzer import FactorAnalyzer\n",
        "import matplotlib.pyplot as plt"
      ],
      "execution_count": 3,
      "outputs": []
    },
    {
      "cell_type": "code",
      "metadata": {
        "id": "sxdm6Y03RDbk"
      },
      "source": [
        "path = r\"/content/test_0.1.xlsx\"\n",
        "df = pd.read_excel(path)\n",
        "df"
      ],
      "execution_count": null,
      "outputs": []
    },
    {
      "cell_type": "code",
      "metadata": {
        "colab": {
          "base_uri": "https://localhost:8080/"
        },
        "id": "zwrdOCd4RhcG",
        "outputId": "cf1e7e81-a59d-4810-ef5a-e1e1da13d17a"
      },
      "source": [
        "df.columns"
      ],
      "execution_count": 5,
      "outputs": [
        {
          "output_type": "execute_result",
          "data": {
            "text/plain": [
              "Index(['Anxious - Relaxed', 'Agitated- Calm',\n",
              "       'Quiescent (Unsurprised)-Surprised'],\n",
              "      dtype='object')"
            ]
          },
          "metadata": {
            "tags": []
          },
          "execution_count": 5
        }
      ]
    },
    {
      "cell_type": "code",
      "metadata": {
        "colab": {
          "base_uri": "https://localhost:8080/"
        },
        "id": "VAxX6bCqRlzw",
        "outputId": "44cceda9-30a6-45f5-fc37-7bb23e6ba6a8"
      },
      "source": [
        "#df.drop(['gender', 'education', 'age'],axis=1,inplace=True)\n",
        "#df.dropna(inplace=True)\n",
        "df.info()"
      ],
      "execution_count": 6,
      "outputs": [
        {
          "output_type": "stream",
          "text": [
            "<class 'pandas.core.frame.DataFrame'>\n",
            "RangeIndex: 26 entries, 0 to 25\n",
            "Data columns (total 3 columns):\n",
            " #   Column                             Non-Null Count  Dtype\n",
            "---  ------                             --------------  -----\n",
            " 0   Anxious - Relaxed                  26 non-null     int64\n",
            " 1   Agitated- Calm                     26 non-null     int64\n",
            " 2   Quiescent (Unsurprised)-Surprised  26 non-null     int64\n",
            "dtypes: int64(3)\n",
            "memory usage: 752.0 bytes\n"
          ],
          "name": "stdout"
        }
      ]
    },
    {
      "cell_type": "code",
      "metadata": {
        "colab": {
          "base_uri": "https://localhost:8080/"
        },
        "id": "zzPTt5oQRzWq",
        "outputId": "e88a6f4a-31ae-4900-9c30-9b41970a5e5b"
      },
      "source": [
        "from factor_analyzer.factor_analyzer import calculate_bartlett_sphericity\n",
        "chi_square_value,p_value=calculate_bartlett_sphericity(df)\n",
        "chi_square_value, p_value"
      ],
      "execution_count": 7,
      "outputs": [
        {
          "output_type": "execute_result",
          "data": {
            "text/plain": [
              "(29.64850689452839, 7.921729504230312e-07)"
            ]
          },
          "metadata": {
            "tags": []
          },
          "execution_count": 7
        }
      ]
    },
    {
      "cell_type": "code",
      "metadata": {
        "id": "JwmMROp6SmeB"
      },
      "source": [
        "from factor_analyzer.factor_analyzer import calculate_kmo\n",
        "kmo_all,kmo_model=calculate_kmo(df)"
      ],
      "execution_count": 8,
      "outputs": []
    },
    {
      "cell_type": "code",
      "metadata": {
        "colab": {
          "base_uri": "https://localhost:8080/"
        },
        "id": "qY-4NQzMSoVt",
        "outputId": "1c705d60-5e71-458f-8206-ddc49cd2009f"
      },
      "source": [
        "kmo_model\n",
        "# KMO < 0.6 considered inadequate. "
      ],
      "execution_count": 9,
      "outputs": [
        {
          "output_type": "execute_result",
          "data": {
            "text/plain": [
              "0.5398310211237656"
            ]
          },
          "metadata": {
            "tags": []
          },
          "execution_count": 9
        }
      ]
    },
    {
      "cell_type": "markdown",
      "metadata": {
        "id": "-T5_JAbUTCDr"
      },
      "source": [
        "Choosing the Number of Factors\n"
      ]
    },
    {
      "cell_type": "code",
      "metadata": {
        "colab": {
          "base_uri": "https://localhost:8080/"
        },
        "id": "1dvh9uhwSuGD",
        "outputId": "8d214447-b340-411a-af05-0537e056d90e"
      },
      "source": [
        "# Create factor analysis object and perform factor analysis\n",
        "fa = FactorAnalyzer(n_factors=3,rotation='varimax')\n",
        "fa.fit(df)\n",
        "#loadings = fa.loadings\n",
        "#fa.analyze(df, 25, rotation=None)\n",
        "# Check Eigenvalues\n",
        "ev, v = fa.get_eigenvalues()\n",
        "ev"
      ],
      "execution_count": 12,
      "outputs": [
        {
          "output_type": "execute_result",
          "data": {
            "text/plain": [
              "array([2.11097581, 0.66678206, 0.22224213])"
            ]
          },
          "metadata": {
            "tags": []
          },
          "execution_count": 12
        }
      ]
    },
    {
      "cell_type": "code",
      "metadata": {
        "colab": {
          "base_uri": "https://localhost:8080/",
          "height": 295
        },
        "id": "2erqa5EBUBjK",
        "outputId": "c7445938-a9d9-466e-f07d-c53d2fa4e148"
      },
      "source": [
        "# Create scree plot using matplotlib\n",
        "plt.scatter(range(1,df.shape[1]+1),ev)\n",
        "plt.plot(range(1,df.shape[1]+1),ev)\n",
        "plt.title('Scree Plot')\n",
        "plt.xlabel('Factors')\n",
        "plt.ylabel('Eigenvalue')\n",
        "plt.grid()\n",
        "plt.show()"
      ],
      "execution_count": 13,
      "outputs": [
        {
          "output_type": "display_data",
          "data": {
            "image/png": "[encoded data removed]",
            "text/plain": [
              "<Figure size 432x288 with 1 Axes>"
            ]
          },
          "metadata": {
            "tags": [],
            "needs_background": "light"
          }
        }
      ]
    },
    {
      "cell_type": "code",
      "metadata": {
        "colab": {
          "base_uri": "https://localhost:8080/"
        },
        "id": "w1rMxG7YU6sC",
        "outputId": "9bcc7855-5a43-4740-cd9a-c892972f14a5"
      },
      "source": [
        "fa.loadings_"
      ],
      "execution_count": 16,
      "outputs": [
        {
          "output_type": "execute_result",
          "data": {
            "text/plain": [
              "array([[ 0.7096471 ,  0.65902642,  0.        ],\n",
              "       [ 0.76394903,  0.24312463,  0.        ],\n",
              "       [-0.22800877, -0.67430301,  0.        ]])"
            ]
          },
          "metadata": {
            "tags": []
          },
          "execution_count": 16
        }
      ]
    },
    {
      "cell_type": "code",
      "metadata": {
        "colab": {
          "base_uri": "https://localhost:8080/"
        },
        "id": "0uJt4R77VelL",
        "outputId": "3ef854e5-1b8f-4211-a14e-c1550fa7c483"
      },
      "source": [
        "# Get variance of each factors\n",
        "fa.get_factor_variance()"
      ],
      "execution_count": 17,
      "outputs": [
        {
          "output_type": "execute_result",
          "data": {
            "text/plain": [
              "(array([1.13920513, 0.94810997, 0.        ]),\n",
              " array([0.37973504, 0.31603666, 0.        ]),\n",
              " array([0.37973504, 0.6957717 , 0.6957717 ]))"
            ]
          },
          "metadata": {
            "tags": []
          },
          "execution_count": 17
        }
      ]
    },
    {
      "cell_type": "code",
      "metadata": {
        "id": "-CZa_9y-Vf_M"
      },
      "source": [
        ""
      ],
      "execution_count": null,
      "outputs": []
    }
  ]
}